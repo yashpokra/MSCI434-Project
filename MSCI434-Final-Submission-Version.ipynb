{
 "cells": [
  {
   "cell_type": "markdown",
   "id": "1abb0384",
   "metadata": {},
   "source": [
    "### Import Modules"
   ]
  },
  {
   "cell_type": "code",
   "execution_count": 55,
   "id": "85d94066",
   "metadata": {},
   "outputs": [
    {
     "name": "stdout",
     "output_type": "stream",
     "text": [
      "Requirement already satisfied: gurobipy in c:\\users\\yash\\anaconda3\\lib\\site-packages (11.0.2)\n",
      "Note: you may need to restart the kernel to use updated packages.\n"
     ]
    }
   ],
   "source": [
    "%pip install gurobipy"
   ]
  },
  {
   "cell_type": "code",
   "execution_count": 56,
   "id": "75fdb8d2",
   "metadata": {},
   "outputs": [],
   "source": [
    "import numpy as np\n",
    "import pandas as pd\n",
    "import gurobipy as gp\n",
    "from gurobipy import GRB"
   ]
  },
  {
   "cell_type": "markdown",
   "id": "7ea25e7f",
   "metadata": {},
   "source": [
    "### Input Data"
   ]
  },
  {
   "cell_type": "code",
   "execution_count": 57,
   "id": "0fe286a3",
   "metadata": {},
   "outputs": [],
   "source": [
    "Recyling_Products = [12000, 8000, 19000, 21000, 25000, 5000]\n",
    "Construction_Costs = [12000, 19500, 32000]\n",
    "Handling_Charges = [6, 2, 8]\n",
    "Processing_Capacity = [0, 38000, 18100]\n",
    "\n",
    "Cik = [\n",
    "    [1, 9, 9, 4, 9],\n",
    "    [8, 4, 2, 7, 4],\n",
    "    [8, 3, 6, 6, 6],\n",
    "    [1, 2, 5, 4, 4],\n",
    "    [9, 6, 4, 1, 8],\n",
    "    [6, 3, 2, 2, 4]\n",
    "]\n",
    "\n",
    "Ckl = [\n",
    "    [8, 9, 7, 9],\n",
    "    [11, 8, 4, 10],\n",
    "    [9, 3, 5, 4],\n",
    "    [5, 4, 8, 6],\n",
    "    [7, 6, 3, 8]\n",
    "]\n",
    "\n",
    "Cki = [\n",
    "    [6, 5, 4, 6, 7, 2],\n",
    "    [4, 2, 6, 3, 7, 2],\n",
    "    [2, 3,1, 5, 8, 2], \n",
    "    [7, 4, 5, 7, 5, 9]\n",
    "]"
   ]
  },
  {
   "cell_type": "markdown",
   "id": "dd1829d3",
   "metadata": {},
   "source": [
    "### Creating Model and Declaring Variables"
   ]
  },
  {
   "cell_type": "code",
   "execution_count": 58,
   "id": "62e04502",
   "metadata": {},
   "outputs": [],
   "source": [
    "\n",
    "model = gp.Model(\"closed_loop_supply_chain\")\n",
    "\n",
    "\n",
    "Customer_Centres = model.addVars(5, vtype = gp.GRB.BINARY, name = 'Customer_Centres')\n",
    "Split_Testing_Centres = model.addVars(6, vtype=gp.GRB.BINARY, name=\"Split_Testing_Centres\")\n",
    "Remanufacturing_Plants = model.addVars(4, vtype=GRB.BINARY, name=\"Remanufacturing_Plants\")\n",
    "\n",
    "\n",
    "quantity_ij = model.addVars(6, 5, name=\"quantity_ij\", lb=0)\n",
    "quantity_jk = model.addVars(5, 4, name=\"quantity_jk\", lb=0)\n",
    "quantity_kl = model.addVars(4, 6, name=\"quantity_kl\", lb=0)"
   ]
  },
  {
   "cell_type": "markdown",
   "id": "e60bcc19",
   "metadata": {},
   "source": [
    "### Objective Function"
   ]
  },
  {
   "cell_type": "code",
   "execution_count": 59,
   "id": "0bfcb431",
   "metadata": {},
   "outputs": [],
   "source": [
    "Construction_Cost_Centres = gp.quicksum(Construction_Costs[0] * Customer_Centres[i] for i in range (5))\n",
    "Construction_Cost_Split = gp.quicksum(Construction_Costs[1] * Split_Testing_Centres[j] for j in range(6))\n",
    "Construction_Cost_Remanufacturing = gp.quicksum(Construction_Costs[2] * Remanufacturing_Plants[l] for l in range(4))\n",
    "\n",
    "\n",
    "Handling_Cost_1 = gp.quicksum(Handling_Charges[0] * quantity_ij[i, j] for i in range(6) for j in range(5))\n",
    "Handling_Cost_2 = gp.quicksum(Handling_Charges[1] * quantity_jk[j, k] for j in range(5) for k in range(4))\n",
    "Handling_Cost_3 = gp.quicksum(Handling_Charges[2] * quantity_kl[k, l] for k in range(4) for l in range(6))\n",
    "\n",
    "\n",
    "Processing_Cost_1 = gp.quicksum(Cik[i][j] * quantity_ij[i, j] for i in range(6) for j in range(5))\n",
    "Processing_Cost_2 = gp.quicksum(Ckl[j][k] * quantity_jk[j, k] for j in range(5) for k in range(4))\n",
    "Processing_Cost_3 = gp.quicksum(Cki[k][i] * quantity_kl[k, i] for k in range(4) for i in range(6))\n",
    "\n",
    "model.setObjective(Construction_Cost_Split + Construction_Cost_Remanufacturing + \n",
    "               Handling_Cost_1 + Processing_Cost_1 + Processing_Cost_2 + Processing_Cost_3 + Construction_Cost_Centres + \n",
    "               Handling_Cost_2 + Handling_Cost_3\n",
    "               , GRB.MINIMIZE)\n"
   ]
  },
  {
   "cell_type": "markdown",
   "id": "09345e24",
   "metadata": {},
   "source": [
    "### Constraints and Optimizing the Model"
   ]
  },
  {
   "cell_type": "code",
   "execution_count": 60,
   "id": "0cecbd32",
   "metadata": {},
   "outputs": [
    {
     "name": "stdout",
     "output_type": "stream",
     "text": [
      "Gurobi Optimizer version 11.0.2 build v11.0.2rc0 (win64 - Windows 10.0 (19045.2))\n",
      "\n",
      "CPU model: Intel(R) Core(TM) i5-9300H CPU @ 2.40GHz, instruction set [SSE2|AVX|AVX2]\n",
      "Thread count: 4 physical cores, 8 logical processors, using up to 8 threads\n",
      "\n",
      "Optimize a model with 35 rows, 89 columns and 128 nonzeros\n",
      "Model fingerprint: 0x7d788d1a\n",
      "Variable types: 74 continuous, 15 integer (15 binary)\n",
      "Coefficient statistics:\n",
      "  Matrix range     [1e+00, 4e+04]\n",
      "  Objective range  [5e+00, 3e+04]\n",
      "  Bounds range     [1e+00, 1e+00]\n",
      "  RHS range        [1e+00, 3e+04]\n",
      "Found heuristic solution: objective 891500.00000\n",
      "Presolve removed 26 rows and 71 columns\n",
      "Presolve time: 0.00s\n",
      "Presolved: 9 rows, 18 columns, 36 nonzeros\n",
      "Found heuristic solution: objective 871500.00000\n",
      "Variable types: 15 continuous, 3 integer (3 binary)\n",
      "\n",
      "Root relaxation: objective 8.316184e+05, 4 iterations, 0.00 seconds (0.00 work units)\n",
      "\n",
      "    Nodes    |    Current Node    |     Objective Bounds      |     Work\n",
      " Expl Unexpl |  Obj  Depth IntInf | Incumbent    BestBd   Gap | It/Node Time\n",
      "\n",
      "     0     0 831618.421    0    3 871500.000 831618.421  4.58%     -    0s\n",
      "*    0     0               0    846500.00000 846500.000  0.00%     -    0s\n",
      "\n",
      "Explored 1 nodes (7 simplex iterations) in 0.04 seconds (0.00 work units)\n",
      "Thread count was 8 (of 8 available processors)\n",
      "\n",
      "Solution count 2: 846500 891500 \n",
      "\n",
      "Optimal solution found (tolerance 1.00e-04)\n",
      "Best objective 8.465000000000e+05, best bound 8.465000000000e+05, gap 0.0000%\n"
     ]
    }
   ],
   "source": [
    "\n",
    "for j in range(5):\n",
    "    model.addConstr(gp.quicksum(quantity_ij[i, j] for i in range(5)) <= Processing_Capacity[1] * Split_Testing_Centres[j])\n",
    "\n",
    "for k in range(4):\n",
    "    model.addConstr(gp.quicksum(quantity_jk[j, k] for j in range(4)) <= Processing_Capacity[2] * Remanufacturing_Plants[k])\n",
    "\n",
    "for i in range(6):\n",
    "    model.addConstr(gp.quicksum(quantity_ij[i, j] for j in range(3)) == Recyling_Products[i])\n",
    "\n",
    "\n",
    "for k in range(4):\n",
    "    model.addConstr(gp.quicksum(quantity_jk[j, k] for j in range(4)) == gp.quicksum(quantity_kl[k, i] for i in range(5)))\n",
    "\n",
    "\n",
    "for i in range(4):\n",
    "    model.addConstr(Customer_Centres[i] <=1)\n",
    "\n",
    "for j in range(5):\n",
    "    model.addConstr(Split_Testing_Centres[j] <= 1)\n",
    "    \n",
    "for k in range(4):\n",
    "    model.addConstr(Remanufacturing_Plants[k] <= 1)\n",
    "\n",
    "    \n",
    "model.addConstr(gp.quicksum(Split_Testing_Centres[j] for j in range(3)) >= 1, \"Minimum-One-Split-Testing-Centre\")\n",
    "model.addConstr(gp.quicksum(Remanufacturing_Plants[k] for k in range(4)) >= 1, \"Minimum-Remanafacturing-Plant\")\n",
    "model.addConstr(gp.quicksum(Remanufacturing_Plants[i] for i in range(4)) >= 1, \"Minimum-Customer_Centres\")\n",
    "\n",
    "model.optimize()"
   ]
  },
  {
   "cell_type": "code",
   "execution_count": null,
   "id": "7fba6c3e",
   "metadata": {},
   "outputs": [],
   "source": []
  },
  {
   "cell_type": "code",
   "execution_count": null,
   "id": "38e03636",
   "metadata": {},
   "outputs": [],
   "source": []
  },
  {
   "cell_type": "code",
   "execution_count": null,
   "id": "608adf67",
   "metadata": {},
   "outputs": [],
   "source": []
  }
 ],
 "metadata": {
  "kernelspec": {
   "display_name": "Python 3 (ipykernel)",
   "language": "python",
   "name": "python3"
  },
  "language_info": {
   "codemirror_mode": {
    "name": "ipython",
    "version": 3
   },
   "file_extension": ".py",
   "mimetype": "text/x-python",
   "name": "python",
   "nbconvert_exporter": "python",
   "pygments_lexer": "ipython3",
   "version": "3.9.12"
  }
 },
 "nbformat": 4,
 "nbformat_minor": 5
}
