{
 "cells": [
  {
   "cell_type": "markdown",
   "id": "1abb0384",
   "metadata": {},
   "source": [
    "### Import Modules"
   ]
  },
  {
   "cell_type": "code",
   "execution_count": 182,
   "id": "85d94066",
   "metadata": {},
   "outputs": [
    {
     "name": "stdout",
     "output_type": "stream",
     "text": [
      "Requirement already satisfied: gurobipy in c:\\users\\yash\\anaconda3\\lib\\site-packages (11.0.2)\n",
      "Note: you may need to restart the kernel to use updated packages.\n"
     ]
    }
   ],
   "source": [
    "%pip install gurobipy"
   ]
  },
  {
   "cell_type": "code",
   "execution_count": 183,
   "id": "75fdb8d2",
   "metadata": {},
   "outputs": [],
   "source": [
    "import numpy as np\n",
    "import pandas as pd\n",
    "import gurobipy as gp\n",
    "from gurobipy import GRB"
   ]
  },
  {
   "cell_type": "markdown",
   "id": "7ea25e7f",
   "metadata": {},
   "source": [
    "### Input Data"
   ]
  },
  {
   "cell_type": "code",
   "execution_count": 184,
   "id": "0fe286a3",
   "metadata": {},
   "outputs": [],
   "source": [
    "Recyling_Products = [12000, 8000, 19000, 21000, 25000, 5000]\n",
    "Construction_Costs = [12000, 19500, 32000]\n",
    "Handling_Charges = [6, 2, 8]\n",
    "Processing_Capacity = [0, 38000, 18100]\n",
    "\n",
    "Cik = [\n",
    "    [1, 9, 9, 4, 9],\n",
    "    [8, 4, 2, 7, 4],\n",
    "    [8, 3, 6, 6, 6],\n",
    "    [1, 2, 5, 4, 4],\n",
    "    [9, 6, 4, 1, 8],\n",
    "    [6, 3, 2, 2, 4]\n",
    "]\n",
    "\n",
    "Ckl = [\n",
    "    [8, 9, 7, 9],\n",
    "    [11, 8, 4, 10],\n",
    "    [9, 3, 5, 4],\n",
    "    [5, 4, 8, 6],\n",
    "    [7, 6, 3, 8]\n",
    "]\n",
    "\n",
    "Cli = [\n",
    "    [6, 5, 4, 6, 7, 2],\n",
    "    [4, 2, 6, 3, 7, 2],\n",
    "    [2, 3,1, 5, 8, 2], \n",
    "    [7, 4, 5, 7, 5, 9]\n",
    "]\n",
    "\n",
    "\n",
    "# Time window in hours\n",
    "Tij = [\n",
    "    [14, 10, 15, 10, 5],\n",
    "    [9, 8, 10, 12, 15],\n",
    "    [12, 7, 16, 14, 13],\n",
    "    [3, 13, 15, 22, 14],\n",
    "    [11, 5, 14, 10, 13],\n",
    "    [2, 14, 8, 11, 14]\n",
    "]\n",
    "\n",
    "Tkl = [\n",
    "    [11, 11, 13, 8],\n",
    "    [4, 12, 15, 7],\n",
    "    [13, 14, 12, 6],\n",
    "    [5, 12, 10, 14],\n",
    "    [12, 6, 14, 11],\n",
    "    [6, 5, 15, 12]\n",
    "]\n",
    "\n",
    "Tlj = [\n",
    "    [10, 7, 12, 13, 10, 12],\n",
    "    [12, 10, 6, 15, 13, 11],\n",
    "    [13, 12, 13, 5, 15, 10],\n",
    "    [13, 14, 15, 11, 12, 10]\n",
    "]\n",
    "\n",
    "# Penalty in dollars\n",
    "Pijk = [\n",
    "    [5, 4, 6, 3, 7],\n",
    "    [6, 10, 7, 4, 6],\n",
    "    [4, 6, 5, 7, 4],\n",
    "    [7, 5, 6, 4, 5],\n",
    "    [5, 6, 6, 7, 5],\n",
    "    [6, 8, 5, 10, 6]\n",
    "]\n",
    "\n",
    "Pikl = [\n",
    "    [4, 5, 6, 7],\n",
    "    [5, 3, 4, 6],\n",
    "    [3, 4, 3, 10],\n",
    "    [2, 4, 5, 5],\n",
    "    [1, 4, 7, 8],\n",
    "    [6, 7, 5, 5]\n",
    "]\n",
    "\n",
    "Plji = [\n",
    "    [8, 4, 6, 7, 6, 5],\n",
    "    [4, 6, 3, 6, 8, 4],\n",
    "    [6, 5, 7, 7, 5, 6],\n",
    "    [7, 6, 4, 5, 4, 7]\n",
    "]\n"
   ]
  },
  {
   "cell_type": "markdown",
   "id": "dd1829d3",
   "metadata": {},
   "source": [
    "### Creating Model and Declaring Variables"
   ]
  },
  {
   "cell_type": "code",
   "execution_count": 185,
   "id": "62e04502",
   "metadata": {},
   "outputs": [],
   "source": [
    "\n",
    "model = gp.Model(\"closed_loop_supply_chain\")\n",
    "\n",
    "\n",
    "Customer_Centres = model.addVars(5, vtype = gp.GRB.BINARY, name = 'Customer_Centres')\n",
    "Split_Testing_Centres = model.addVars(6, vtype=gp.GRB.BINARY, name=\"Split_Testing_Centres\")\n",
    "Remanufacturing_Plants = model.addVars(4, vtype=GRB.BINARY, name=\"Remanufacturing_Plants\")\n",
    "\n",
    "\n",
    "quantity_ijk = model.addVars(6, 5, name=\"quantity_ijk\")\n",
    "quantity_ikl = model.addVars(5, 4, name=\"quantity_ikl\")\n",
    "quantity_lji = model.addVars(4, 6, name=\"quantity_lji\")\n",
    "\n",
    " \n",
    "time_ijk = model.addVars(6, 5, name=\"time_ijk\")\n",
    "time_ikl = model.addVars(5, 4, name=\"time_ikl\") \n",
    "time_lji = model.addVars(4, 6, name=\"time_lji\") \n",
    "\n",
    "                            \n",
    "over_time_ijk = model.addVars(6, 5, name=\"over_time_ijk\")\n",
    "over_time_ikl = model.addVars(5, 4, name=\"over_time_ikl\")\n",
    "over_time_lji = model.addVars(4, 6, name=\"over_time_lji\")\n"
   ]
  },
  {
   "cell_type": "markdown",
   "id": "e60bcc19",
   "metadata": {},
   "source": [
    "### Objective Function"
   ]
  },
  {
   "cell_type": "code",
   "execution_count": 186,
   "id": "0bfcb431",
   "metadata": {},
   "outputs": [],
   "source": [
    "Construction_Cost_Centres = gp.quicksum(Construction_Costs[0] * Customer_Centres[i] for i in range (5))\n",
    "Construction_Cost_Split = gp.quicksum(Construction_Costs[1] * Split_Testing_Centres[j] for j in range(6))\n",
    "Construction_Cost_Remanufacturing = gp.quicksum(Construction_Costs[2] * Remanufacturing_Plants[l] for l in range(4))\n",
    "\n",
    "\n",
    "Handling_Cost_1 = gp.quicksum(Handling_Charges[0] * quantity_ijk[i, j] for i in range(6) for j in range(5))\n",
    "Handling_Cost_2 = gp.quicksum(Handling_Charges[1] * quantity_ikl[j, k] for j in range(5) for k in range(4))\n",
    "Handling_Cost_3 = gp.quicksum(Handling_Charges[2] * quantity_lji[k, l] for k in range(4) for l in range(6))\n",
    "\n",
    "\n",
    "Processing_Cost_1 = gp.quicksum(Cik[i][j] * quantity_ijk[i, j] for i in range(6) for j in range(5))\n",
    "Processing_Cost_2 = gp.quicksum(Ckl[j][k] * quantity_ikl[j, k] for j in range(5) for k in range(4))\n",
    "Processing_Cost_3 = gp.quicksum(Cli[k][i] * quantity_lji[k, i] for k in range(4) for i in range(6))\n",
    "\n",
    "\n",
    "Penalty_Cost_1 = gp.quicksum(Pijk[i][j] * over_time_ijk[i, j] for i in range(6) for j in range(5))\n",
    "Penalty_Cost_2 = gp.quicksum(Pikl[j][k] * over_time_ikl[j, k] for j in range(5) for k in range(4))\n",
    "Penalty_Cost_3 = gp.quicksum(Plji[k][i] * over_time_lji[k, i] for k in range(4) for i in range(6))\n",
    "\n",
    "\n",
    "model.setObjective(Construction_Cost_Split + Construction_Cost_Remanufacturing + \n",
    "               Handling_Cost_1 + Processing_Cost_1 + Processing_Cost_2 + Processing_Cost_3 + Construction_Cost_Centres + \n",
    "               Handling_Cost_2 + Handling_Cost_3  +\n",
    "                   Penalty_Cost_1 + Penalty_Cost_2 + Penalty_Cost_3\n",
    "               , GRB.MINIMIZE)\n"
   ]
  },
  {
   "cell_type": "markdown",
   "id": "09345e24",
   "metadata": {},
   "source": [
    "### Constraints and Optimizing the Model"
   ]
  },
  {
   "cell_type": "code",
   "execution_count": 187,
   "id": "0cecbd32",
   "metadata": {
    "scrolled": false
   },
   "outputs": [
    {
     "name": "stdout",
     "output_type": "stream",
     "text": [
      "Gurobi Optimizer version 11.0.2 build v11.0.2rc0 (win64 - Windows 10.0 (19045.2))\n",
      "\n",
      "CPU model: Intel(R) Core(TM) i5-9300H CPU @ 2.40GHz, instruction set [SSE2|AVX|AVX2]\n",
      "Thread count: 4 physical cores, 8 logical processors, using up to 8 threads\n",
      "\n",
      "Optimize a model with 203 rows, 237 columns and 370 nonzeros\n",
      "Model fingerprint: 0x1b338598\n",
      "Variable types: 222 continuous, 15 integer (15 binary)\n",
      "Coefficient statistics:\n",
      "  Matrix range     [1e+00, 3e+08]\n",
      "  Objective range  [1e+00, 3e+04]\n",
      "  Bounds range     [1e+00, 1e+00]\n",
      "  RHS range        [1e+00, 3e+04]\n",
      "Warning: Model contains large matrix coefficients\n",
      "         Consider reformulating model or setting NumericFocus parameter\n",
      "         to avoid numerical issues.\n",
      "Found heuristic solution: objective 1247890.0000\n",
      "Presolve removed 194 rows and 219 columns\n",
      "Presolve time: 0.00s\n",
      "Presolved: 9 rows, 18 columns, 36 nonzeros\n",
      "Found heuristic solution: objective 1247846.0000\n",
      "Variable types: 15 continuous, 3 integer (3 binary)\n",
      "\n",
      "Root relaxation: objective 9.399644e+05, 4 iterations, 0.00 seconds (0.00 work units)\n",
      "\n",
      "    Nodes    |    Current Node    |     Objective Bounds      |     Work\n",
      " Expl Unexpl |  Obj  Depth IntInf | Incumbent    BestBd   Gap | It/Node Time\n",
      "\n",
      "     0     0 939964.421    0    3 1247846.00 939964.421  24.7%     -    0s\n",
      "H    0     0                    954846.00000 939964.421  1.56%     -    0s\n",
      "     0     0     cutoff    0      954846.000 954846.000  0.00%     -    0s\n",
      "\n",
      "Explored 1 nodes (7 simplex iterations) in 0.02 seconds (0.00 work units)\n",
      "Thread count was 8 (of 8 available processors)\n",
      "\n",
      "Solution count 2: 954846 1.24789e+06 \n",
      "\n",
      "Optimal solution found (tolerance 1.00e-04)\n",
      "Best objective 9.548460000000e+05, best bound 9.548460000000e+05, gap 0.0000%\n"
     ]
    }
   ],
   "source": [
    "\n",
    "for j in range(5):\n",
    "    model.addConstr(gp.quicksum(quantity_ijk[i, j] for i in range(5)) <= Processing_Capacity[1] * Split_Testing_Centres[j])\n",
    "\n",
    "for k in range(4):\n",
    "    model.addConstr(gp.quicksum(quantity_ikl[j, k] for j in range(4)) <= Processing_Capacity[2] * Remanufacturing_Plants[k])\n",
    "\n",
    "for i in range(6):\n",
    "    model.addConstr(gp.quicksum(quantity_ijk[i, j] for j in range(3)) == Recyling_Products[i])\n",
    "\n",
    "\n",
    "for k in range(4):\n",
    "    model.addConstr(gp.quicksum(quantity_ikl[j, k] for j in range(4)) == gp.quicksum(quantity_lji[k, i] for i in range(5)))\n",
    "    \n",
    "\n",
    "for i in range(4):\n",
    "    model.addConstr(Customer_Centres[i] <=1)\n",
    "\n",
    "for j in range(5):\n",
    "    model.addConstr(Split_Testing_Centres[j] <= 1)\n",
    "    \n",
    "for k in range(4):\n",
    "    model.addConstr(Remanufacturing_Plants[k] <= 1)\n",
    "\n",
    "    \n",
    "\n",
    "        \n",
    "model.addConstr(gp.quicksum(Split_Testing_Centres[j] for j in range(3)) >= 1)\n",
    "model.addConstr(gp.quicksum(Remanufacturing_Plants[k] for k in range(4)) >= 1)\n",
    "model.addConstr(gp.quicksum(Customer_Centres[i] for i in range(4)) >= 1)\n",
    "\n",
    "\n",
    "\n",
    "\n",
    "# Added New Constraints Below \n",
    "model.addConstrs((time_ijk[j, k] >= 0 for j in range(6) for k in range(5)))\n",
    "model.addConstrs((time_ikl[k, l] >= 0 for k in range(5) for l in range(4)))\n",
    "model.addConstrs((time_lji[l, j] >= 0 for l in range(4) for j in range(6)))\n",
    "\n",
    "M = 300000000\n",
    "model.addConstrs((time_ijk[j, k] <= M * quantity_ijk[j, k] for j in range(6) for k in range(5)))\n",
    "model.addConstrs((time_ikl[k, l] <= M * quantity_ikl[k, l] for k in range(5) for l in range(4)))\n",
    "model.addConstrs((time_lji[l, j] <= M * quantity_lji[l, j] for l in range(4) for j in range(6)))\n",
    "\n",
    "\n",
    "for j in range(5):\n",
    "    for k in range(4):\n",
    "        model.addConstr(quantity_ikl[j,k] >=1)\n",
    "     \n",
    "\n",
    "model.optimize()\n",
    "\n"
   ]
  },
  {
   "cell_type": "code",
   "execution_count": null,
   "id": "7fba6c3e",
   "metadata": {},
   "outputs": [],
   "source": []
  },
  {
   "cell_type": "code",
   "execution_count": null,
   "id": "38e03636",
   "metadata": {},
   "outputs": [],
   "source": []
  },
  {
   "cell_type": "code",
   "execution_count": null,
   "id": "608adf67",
   "metadata": {},
   "outputs": [],
   "source": []
  },
  {
   "cell_type": "code",
   "execution_count": null,
   "id": "1d787010",
   "metadata": {},
   "outputs": [],
   "source": []
  },
  {
   "cell_type": "code",
   "execution_count": null,
   "id": "5876e89e",
   "metadata": {},
   "outputs": [],
   "source": []
  },
  {
   "cell_type": "code",
   "execution_count": null,
   "id": "a29698f8",
   "metadata": {},
   "outputs": [],
   "source": []
  },
  {
   "cell_type": "code",
   "execution_count": null,
   "id": "910bf305",
   "metadata": {},
   "outputs": [],
   "source": []
  }
 ],
 "metadata": {
  "kernelspec": {
   "display_name": "Python 3 (ipykernel)",
   "language": "python",
   "name": "python3"
  },
  "language_info": {
   "codemirror_mode": {
    "name": "ipython",
    "version": 3
   },
   "file_extension": ".py",
   "mimetype": "text/x-python",
   "name": "python",
   "nbconvert_exporter": "python",
   "pygments_lexer": "ipython3",
   "version": "3.9.12"
  }
 },
 "nbformat": 4,
 "nbformat_minor": 5
}
